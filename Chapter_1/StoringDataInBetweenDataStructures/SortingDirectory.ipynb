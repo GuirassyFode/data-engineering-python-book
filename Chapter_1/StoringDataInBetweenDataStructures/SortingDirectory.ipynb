{
 "cells": [
  {
   "cell_type": "code",
   "execution_count": null,
   "id": "a4ecea6b",
   "metadata": {},
   "outputs": [],
   "source": [
    "import os\n",
    "\n",
    "#Reed as a list my home directory\n",
    "home_directory = os.listdir('/Users/defogui')\n",
    "\n",
    "# Add an empty dictionary with two keys file and directories\n",
    "\n",
    "home_content = {'files':[], 'directories': []}\n"
   ]
  },
  {
   "cell_type": "code",
   "execution_count": 3,
   "id": "b8f31f0d",
   "metadata": {},
   "outputs": [],
   "source": [
    "#Create a for loop to sort\n",
    "home_path = [os.path.join('/Users/defogui', item) for item in home_directory]\n",
    "\n",
    "# Append element in the empty dictionary"
   ]
  },
  {
   "cell_type": "code",
   "execution_count": 4,
   "id": "f2e17954",
   "metadata": {},
   "outputs": [
    {
     "name": "stdout",
     "output_type": "stream",
     "text": [
      "{'files': ['/Users/defogui/.zprofile.pysave', '/Users/defogui/.condarc', '/Users/defogui/.DS_Store', '/Users/defogui/.CFUserTextEncoding', '/Users/defogui/.xonshrc', '/Users/defogui/.zprofile.bak', '/Users/defogui/Untitled.ipynb', '/Users/defogui/.zshrc', '/Users/defogui/.zprofile', '/Users/defogui/.rnd', '/Users/defogui/.zsh_history', '/Users/defogui/.lesshst', '/Users/defogui/.tcshrc', '/Users/defogui/.zcompdump', '/Users/defogui/.bash_profile', '/Users/defogui/.python_history', '/Users/defogui/.gitconfig', '/Users/defogui/.bash_history', '/Users/defogui/.viminfo'], 'directories': ['/Users/defogui/Untitled Folder', '/Users/defogui/.config', '/Users/defogui/Music', '/Users/defogui/letsencrypt', '/Users/defogui/.docker', '/Users/defogui/.ivy2', '/Users/defogui/myApiFlask', '/Users/defogui/.vim', '/Users/defogui/.ServiceHub', '/Users/defogui/.templateengine', '/Users/defogui/.streamlit', '/Users/defogui/.local', '/Users/defogui/Pictures', '/Users/defogui/.nvm', '/Users/defogui/Postman', '/Users/defogui/.nuget', '/Users/defogui/.ipython', '/Users/defogui/Desktop', '/Users/defogui/Library', '/Users/defogui/.matplotlib', '/Users/defogui/airflow', '/Users/defogui/.cups', '/Users/defogui/Public', '/Users/defogui/.EasyOCR', '/Users/defogui/.idlerc', '/Users/defogui/.ivy2.5.2', '/Users/defogui/.splunk', '/Users/defogui/.anaconda', '/Users/defogui/.ssh', '/Users/defogui/Movies', '/Users/defogui/.dotnet', '/Users/defogui/Applications', '/Users/defogui/.Trash', '/Users/defogui/Dev', '/Users/defogui/.ipynb_checkpoints', '/Users/defogui/.jupyter', '/Users/defogui/.keras', '/Users/defogui/.npm', '/Users/defogui/Documents', '/Users/defogui/venv', '/Users/defogui/.vscode', '/Users/defogui/.m2', '/Users/defogui/.aspnet', '/Users/defogui/Downloads', '/Users/defogui/.continuum', '/Users/defogui/.cache', '/Users/defogui/.aws', '/Users/defogui/elasticsearch', '/Users/defogui/.ollama', '/Users/defogui/.zsh_sessions', '/Users/defogui/.conda', '/Users/defogui/.groovy', '/Users/defogui/PyCharmMiscProject', '/Users/defogui/.jenkins']}\n"
     ]
    }
   ],
   "source": [
    "\n",
    "for path in home_path:\n",
    "    if os.path.isdir(path):\n",
    "        home_content['directories'].append(path)\n",
    "\n",
    "    if os.path.isfile(path):\n",
    "        home_content['files'].append(path)\n",
    "\n",
    "\n",
    "print(home_content)"
   ]
  }
 ],
 "metadata": {
  "kernelspec": {
   "display_name": ".venv",
   "language": "python",
   "name": "python3"
  },
  "language_info": {
   "codemirror_mode": {
    "name": "ipython",
    "version": 3
   },
   "file_extension": ".py",
   "mimetype": "text/x-python",
   "name": "python",
   "nbconvert_exporter": "python",
   "pygments_lexer": "ipython3",
   "version": "3.11.9"
  }
 },
 "nbformat": 4,
 "nbformat_minor": 5
}
