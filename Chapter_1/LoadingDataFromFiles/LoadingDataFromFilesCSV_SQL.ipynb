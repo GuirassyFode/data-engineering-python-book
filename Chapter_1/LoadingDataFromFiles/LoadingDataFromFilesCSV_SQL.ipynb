{
 "cells": [
  {
   "cell_type": "markdown",
   "id": "358ed4f2",
   "metadata": {},
   "source": [
    "# Open a file whitout using Context"
   ]
  },
  {
   "cell_type": "code",
   "execution_count": 15,
   "id": "369a4134",
   "metadata": {},
   "outputs": [],
   "source": [
    "sqlFile = open(\"mysql.sql\")\n",
    "sqlConten = sqlFile.readlines()\n"
   ]
  },
  {
   "cell_type": "markdown",
   "id": "ac0b7650",
   "metadata": {},
   "source": [
    "# Open file using the context who handle the file closing "
   ]
  },
  {
   "cell_type": "code",
   "execution_count": 14,
   "id": "fc82c604",
   "metadata": {},
   "outputs": [
    {
     "name": "stdout",
     "output_type": "stream",
     "text": [
      "id,name,age,city\n",
      "1,Bob,28,New York\n",
      "2,Jenn,34,San Francisco\n",
      "3,Genna,25,Chicago\n",
      "4,Shayon,30,Boston\n"
     ]
    }
   ],
   "source": [
    "with open('mycsv.csv', 'r') as my_csv_file:\n",
    "    myfileRead = my_csv_file.read()\n",
    "\n",
    "    print(myfileRead)\n",
    "\n"
   ]
  },
  {
   "cell_type": "markdown",
   "id": "c813d20c",
   "metadata": {},
   "source": [
    "# Use Pandas to create a dataFrame"
   ]
  },
  {
   "cell_type": "code",
   "execution_count": 20,
   "id": "2955ff32",
   "metadata": {},
   "outputs": [
    {
     "data": {
      "text/html": [
       "<div>\n",
       "<style scoped>\n",
       "    .dataframe tbody tr th:only-of-type {\n",
       "        vertical-align: middle;\n",
       "    }\n",
       "\n",
       "    .dataframe tbody tr th {\n",
       "        vertical-align: top;\n",
       "    }\n",
       "\n",
       "    .dataframe thead th {\n",
       "        text-align: right;\n",
       "    }\n",
       "</style>\n",
       "<table border=\"1\" class=\"dataframe\">\n",
       "  <thead>\n",
       "    <tr style=\"text-align: right;\">\n",
       "      <th></th>\n",
       "      <th>id</th>\n",
       "      <th>name</th>\n",
       "      <th>age</th>\n",
       "      <th>city</th>\n",
       "    </tr>\n",
       "  </thead>\n",
       "  <tbody>\n",
       "    <tr>\n",
       "      <th>0</th>\n",
       "      <td>1</td>\n",
       "      <td>Bob</td>\n",
       "      <td>28</td>\n",
       "      <td>New York</td>\n",
       "    </tr>\n",
       "    <tr>\n",
       "      <th>1</th>\n",
       "      <td>2</td>\n",
       "      <td>Jenn</td>\n",
       "      <td>34</td>\n",
       "      <td>San Francisco</td>\n",
       "    </tr>\n",
       "    <tr>\n",
       "      <th>2</th>\n",
       "      <td>3</td>\n",
       "      <td>Genna</td>\n",
       "      <td>25</td>\n",
       "      <td>Chicago</td>\n",
       "    </tr>\n",
       "    <tr>\n",
       "      <th>3</th>\n",
       "      <td>4</td>\n",
       "      <td>Shayon</td>\n",
       "      <td>30</td>\n",
       "      <td>Boston</td>\n",
       "    </tr>\n",
       "  </tbody>\n",
       "</table>\n",
       "</div>"
      ],
      "text/plain": [
       "   id    name  age           city\n",
       "0   1     Bob   28       New York\n",
       "1   2    Jenn   34  San Francisco\n",
       "2   3   Genna   25        Chicago\n",
       "3   4  Shayon   30         Boston"
      ]
     },
     "execution_count": 20,
     "metadata": {},
     "output_type": "execute_result"
    }
   ],
   "source": [
    "#%pip install pandas\n",
    "import pandas as pd\n",
    "\n",
    "df = pd.read_csv('mycsv.csv')\n",
    "\n",
    "df"
   ]
  }
 ],
 "metadata": {
  "kernelspec": {
   "display_name": ".venv",
   "language": "python",
   "name": "python3"
  },
  "language_info": {
   "codemirror_mode": {
    "name": "ipython",
    "version": 3
   },
   "file_extension": ".py",
   "mimetype": "text/x-python",
   "name": "python",
   "nbconvert_exporter": "python",
   "pygments_lexer": "ipython3",
   "version": "3.11.9"
  }
 },
 "nbformat": 4,
 "nbformat_minor": 5
}
