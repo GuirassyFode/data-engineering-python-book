{
 "cells": [
  {
   "cell_type": "code",
   "execution_count": 1,
   "id": "7ddcb50b",
   "metadata": {},
   "outputs": [],
   "source": [
    "import json\n",
    "data = {}\n",
    "\n"
   ]
  },
  {
   "cell_type": "code",
   "execution_count": 4,
   "id": "e1e9852e",
   "metadata": {},
   "outputs": [],
   "source": [
    "with open(\"jsonWrtingOnFile.json\", \"w\") as testSample:\n",
    "\n",
    "    json.dumps(data)"
   ]
  }
 ],
 "metadata": {
  "kernelspec": {
   "display_name": ".venv",
   "language": "python",
   "name": "python3"
  },
  "language_info": {
   "codemirror_mode": {
    "name": "ipython",
    "version": 3
   },
   "file_extension": ".py",
   "mimetype": "text/x-python",
   "name": "python",
   "nbconvert_exporter": "python",
   "pygments_lexer": "ipython3",
   "version": "3.11.9"
  }
 },
 "nbformat": 4,
 "nbformat_minor": 5
}
