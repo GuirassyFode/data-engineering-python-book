{
 "cells": [
  {
   "cell_type": "markdown",
   "id": "bdb6059c",
   "metadata": {},
   "source": [
    "# Manipulate Files with Json module"
   ]
  }
 ],
 "metadata": {
  "language_info": {
   "name": "python"
  }
 },
 "nbformat": 4,
 "nbformat_minor": 5
}
