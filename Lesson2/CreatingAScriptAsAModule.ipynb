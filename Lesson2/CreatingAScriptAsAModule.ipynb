{
 "cells": [
  {
   "cell_type": "code",
   "execution_count": null,
   "id": "2c208d4d",
   "metadata": {},
   "outputs": [],
   "source": [
    "import os\n",
    "def main():\n",
    "    for files, directories, root in os.walk('/User/defogui'):\n",
    "        for directory in directories:\n",
    "            asbsolut_directory = os.path.join(root, directory)\n",
    "            print(f\"Dir path = {asbsolut_directory}\")\n",
    "\n",
    "\n",
    "if __name__ == '__main__':\n",
    "      main()"
   ]
  }
 ],
 "metadata": {
  "kernelspec": {
   "display_name": ".venv",
   "language": "python",
   "name": "python3"
  },
  "language_info": {
   "codemirror_mode": {
    "name": "ipython",
    "version": 3
   },
   "file_extension": ".py",
   "mimetype": "text/x-python",
   "name": "python",
   "nbconvert_exporter": "python",
   "pygments_lexer": "ipython3",
   "version": "3.11.9"
  }
 },
 "nbformat": 4,
 "nbformat_minor": 5
}
