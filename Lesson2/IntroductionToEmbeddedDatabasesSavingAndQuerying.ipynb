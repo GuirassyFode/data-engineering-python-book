{
 "cells": [
  {
   "cell_type": "code",
   "execution_count": 30,
   "id": "8f617158",
   "metadata": {},
   "outputs": [],
   "source": [
    "from faker import Faker \n",
    "\n",
    "fake = Faker()\n",
    "\n",
    "names = [fake.name().split() for _ in range(100)]\n",
    "names = [name for name in names if len(name) == 2]\n",
    "\n"
   ]
  },
  {
   "cell_type": "code",
   "execution_count": 31,
   "id": "f4f11ee9",
   "metadata": {},
   "outputs": [],
   "source": [
    "# Database setup\n",
    "connection = sqlite3.connect('people.db')  # Change to your DB name\n",
    "cursor = connection.cursor()\n",
    "\n",
    "\n"
   ]
  },
  {
   "cell_type": "code",
   "execution_count": 32,
   "id": "f2959db0",
   "metadata": {},
   "outputs": [
    {
     "data": {
      "text/plain": [
       "<sqlite3.Cursor at 0x1155e24c0>"
      ]
     },
     "execution_count": 32,
     "metadata": {},
     "output_type": "execute_result"
    }
   ],
   "source": [
    "# Create table if it doesn't exist\n",
    "cursor.execute('''\n",
    "    CREATE TABLE IF NOT EXISTS people (\n",
    "        id INTEGER PRIMARY KEY AUTOINCREMENT,\n",
    "        name TEXT,\n",
    "        sirname TEXT\n",
    "    )\n",
    "''')"
   ]
  },
  {
   "cell_type": "code",
   "execution_count": 26,
   "id": "06c304f0",
   "metadata": {},
   "outputs": [],
   "source": [
    "insert_query = 'INSERT INTO people (name, sirname) VALUES(?,?)'\n",
    "\n",
    "cursor =connection.cursor()\n",
    "\n",
    "for name in names:\n",
    "    cursor.execute(insert_query, name)\n",
    "\n",
    "connection.commit()"
   ]
  },
  {
   "cell_type": "code",
   "execution_count": 41,
   "id": "431a8e69",
   "metadata": {},
   "outputs": [
    {
     "name": "stdout",
     "output_type": "stream",
     "text": [
      "First Name = Amanda, last name: Erickson\n",
      "First Name = Angel, last name: Morris\n",
      "First Name = Billy, last name: Huff\n",
      "First Name = Brandon, last name: Mora\n",
      "First Name = Brian, last name: Bryant\n",
      "First Name = Brianna, last name: Little\n",
      "First Name = Caleb, last name: Cross\n",
      "First Name = Cassandra, last name: Potter\n",
      "First Name = Cassandra, last name: Mccoy\n",
      "First Name = Charlene, last name: Hoffman\n",
      "First Name = Colton, last name: Watson\n",
      "First Name = David, last name: Simmons\n",
      "First Name = Dean, last name: Robinson\n",
      "First Name = Debra, last name: Graves\n",
      "First Name = Dennis, last name: Maldonado\n",
      "First Name = Destiny, last name: Sullivan\n",
      "First Name = Devin, last name: Kelly\n",
      "First Name = Douglas, last name: Roberts\n",
      "First Name = Douglas, last name: Townsend\n"
     ]
    }
   ],
   "source": [
    "select_query = 'SELECT * FROM people order by name'\n",
    "countline =1\n",
    "for res in cursor.execute(select_query):\n",
    "    if countline<20:\n",
    "       print(f\"First Name = {res[1]}, last name: {res[2]}\")\n",
    "       countline +=1\n"
   ]
  }
 ],
 "metadata": {
  "kernelspec": {
   "display_name": ".venv",
   "language": "python",
   "name": "python3"
  },
  "language_info": {
   "codemirror_mode": {
    "name": "ipython",
    "version": 3
   },
   "file_extension": ".py",
   "mimetype": "text/x-python",
   "name": "python",
   "nbconvert_exporter": "python",
   "pygments_lexer": "ipython3",
   "version": "3.11.9"
  }
 },
 "nbformat": 4,
 "nbformat_minor": 5
}
