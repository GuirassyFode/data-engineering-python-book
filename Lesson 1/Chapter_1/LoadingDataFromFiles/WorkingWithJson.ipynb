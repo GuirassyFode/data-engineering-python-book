{
 "cells": [
  {
   "cell_type": "markdown",
   "id": "bdb6059c",
   "metadata": {},
   "source": [
    "# Manipulate Files with Json module"
   ]
  },
  {
   "cell_type": "code",
   "execution_count": 5,
   "id": "5d14a7d1",
   "metadata": {},
   "outputs": [
    {
     "data": {
      "text/plain": [
       "'{\"name\": \"Fode\", \"Company\": \"SICPA\", \"Sexe\": \"M\", \"ID_Valid\": true}'"
      ]
     },
     "execution_count": 5,
     "metadata": {},
     "output_type": "execute_result"
    }
   ],
   "source": [
    "import json\n",
    "data = {'name': 'Fode', 'Company': 'SICPA', 'Sexe': 'M', 'ID_Valid': True}\n",
    "\n",
    "json.dumps(data)"
   ]
  },
  {
   "cell_type": "code",
   "execution_count": 12,
   "id": "5e5a7400",
   "metadata": {},
   "outputs": [
    {
     "data": {
      "text/plain": [
       "{'name': 'Fode', 'Company': 'SICPA', 'Sexe': 'M', 'ID_Valid': True}"
      ]
     },
     "execution_count": 12,
     "metadata": {},
     "output_type": "execute_result"
    }
   ],
   "source": [
    "json_output = '{\"name\": \"Fode\", \"Company\" : \"SICPA\", \"Sexe\": \"M\", \"ID_Valid\": true}'\n",
    "\n",
    "loaded_json = json.loads(json_output)\n",
    "\n",
    "type(loaded_json)\n",
    "\n",
    "loaded_json\n",
    "\n"
   ]
  },
  {
   "cell_type": "markdown",
   "id": "98efd2ff",
   "metadata": {},
   "source": [
    "# Open Json file using context\n"
   ]
  },
  {
   "cell_type": "code",
   "execution_count": 14,
   "id": "dcd2e2b5",
   "metadata": {},
   "outputs": [
    {
     "data": {
      "text/plain": [
       "[{'id': 1, 'name': 'Bob', 'age': 28, 'city': 'New York'},\n",
       " {'id': 2, 'name': 'Jenn', 'age': 34, 'city': 'San Francisco'},\n",
       " {'id': 3, 'name': 'Genna', 'age': 25, 'city': 'Chicago'},\n",
       " {'id': 4, 'name': 'Shayon', 'age': 30, 'city': 'Boston'}]"
      ]
     },
     "execution_count": 14,
     "metadata": {},
     "output_type": "execute_result"
    }
   ],
   "source": [
    "with open('myjson.json', 'r') as myJson:\n",
    "\n",
    "    open_json_F = json.load(myJson)\n",
    "\n",
    "open_json_F"
   ]
  }
 ],
 "metadata": {
  "kernelspec": {
   "display_name": ".venv",
   "language": "python",
   "name": "python3"
  },
  "language_info": {
   "codemirror_mode": {
    "name": "ipython",
    "version": 3
   },
   "file_extension": ".py",
   "mimetype": "text/x-python",
   "name": "python",
   "nbconvert_exporter": "python",
   "pygments_lexer": "ipython3",
   "version": "3.11.9"
  }
 },
 "nbformat": 4,
 "nbformat_minor": 5
}
